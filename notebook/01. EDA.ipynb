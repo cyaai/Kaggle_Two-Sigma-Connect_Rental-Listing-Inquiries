{
 "cells": [
  {
   "cell_type": "code",
   "execution_count": 3,
   "metadata": {
    "collapsed": true
   },
   "outputs": [],
   "source": [
    "import pandas as pd\n",
    "import matplotlib.pyplot as plt\n",
    "import seaborn as sns\n",
    "import numpy as np\n",
    "\n",
    "%matplotlib inline"
   ]
  },
  {
   "cell_type": "code",
   "execution_count": 4,
   "metadata": {
    "collapsed": false
   },
   "outputs": [],
   "source": [
    "df = pd.read_json(\"../input/train.json\")"
   ]
  },
  {
   "cell_type": "code",
   "execution_count": 5,
   "metadata": {
    "collapsed": false
   },
   "outputs": [
    {
     "name": "stdout",
     "output_type": "stream",
     "text": [
      "<class 'pandas.core.frame.DataFrame'>\n",
      "Float64Index: 49352 entries, 10.0 to 99994.0\n",
      "Data columns (total 15 columns):\n",
      "bathrooms          49352 non-null float64\n",
      "bedrooms           49352 non-null int64\n",
      "building_id        49352 non-null object\n",
      "created            49352 non-null object\n",
      "description        49352 non-null object\n",
      "display_address    49352 non-null object\n",
      "features           49352 non-null object\n",
      "interest_level     49352 non-null object\n",
      "latitude           49352 non-null float64\n",
      "listing_id         49352 non-null int64\n",
      "longitude          49352 non-null float64\n",
      "manager_id         49352 non-null object\n",
      "photos             49352 non-null object\n",
      "price              49352 non-null int64\n",
      "street_address     49352 non-null object\n",
      "dtypes: float64(3), int64(3), object(9)\n",
      "memory usage: 6.0+ MB\n"
     ]
    }
   ],
   "source": [
    "df.info()"
   ]
  },
  {
   "cell_type": "code",
   "execution_count": 6,
   "metadata": {
    "collapsed": false
   },
   "outputs": [
    {
     "name": "stdout",
     "output_type": "stream",
     "text": [
      "Index(['bathrooms', 'bedrooms', 'building_id', 'created', 'description',\n",
      "       'display_address', 'features', 'interest_level', 'latitude',\n",
      "       'listing_id', 'longitude', 'manager_id', 'photos', 'price',\n",
      "       'street_address'],\n",
      "      dtype='object') 15\n"
     ]
    }
   ],
   "source": [
    "print(df.columns, len(df.columns))"
   ]
  },
  {
   "cell_type": "code",
   "execution_count": 7,
   "metadata": {
    "collapsed": false,
    "scrolled": true
   },
   "outputs": [
    {
     "data": {
      "text/plain": [
       "49352"
      ]
     },
     "execution_count": 7,
     "metadata": {},
     "output_type": "execute_result"
    }
   ],
   "source": [
    "len(df)"
   ]
  },
  {
   "cell_type": "code",
   "execution_count": 8,
   "metadata": {
    "collapsed": false
   },
   "outputs": [
    {
     "data": {
      "text/html": [
       "<div>\n",
       "<table border=\"1\" class=\"dataframe\">\n",
       "  <thead>\n",
       "    <tr style=\"text-align: right;\">\n",
       "      <th></th>\n",
       "      <th>bathrooms</th>\n",
       "      <th>bedrooms</th>\n",
       "      <th>building_id</th>\n",
       "      <th>created</th>\n",
       "      <th>description</th>\n",
       "      <th>display_address</th>\n",
       "      <th>features</th>\n",
       "      <th>interest_level</th>\n",
       "      <th>latitude</th>\n",
       "      <th>listing_id</th>\n",
       "      <th>longitude</th>\n",
       "      <th>manager_id</th>\n",
       "      <th>photos</th>\n",
       "      <th>price</th>\n",
       "      <th>street_address</th>\n",
       "    </tr>\n",
       "  </thead>\n",
       "  <tbody>\n",
       "    <tr>\n",
       "      <th>10.0</th>\n",
       "      <td>1.5</td>\n",
       "      <td>3</td>\n",
       "      <td>53a5b119ba8f7b61d4e010512e0dfc85</td>\n",
       "      <td>2016-06-24 07:54:24</td>\n",
       "      <td>A Brand New 3 Bedroom 1.5 bath ApartmentEnjoy ...</td>\n",
       "      <td>Metropolitan Avenue</td>\n",
       "      <td>[]</td>\n",
       "      <td>medium</td>\n",
       "      <td>40.7145</td>\n",
       "      <td>7211212</td>\n",
       "      <td>-73.9425</td>\n",
       "      <td>5ba989232d0489da1b5f2c45f6688adc</td>\n",
       "      <td>[https://photos.renthop.com/2/7211212_1ed4542e...</td>\n",
       "      <td>3000</td>\n",
       "      <td>792 Metropolitan Avenue</td>\n",
       "    </tr>\n",
       "    <tr>\n",
       "      <th>10000.0</th>\n",
       "      <td>1.0</td>\n",
       "      <td>2</td>\n",
       "      <td>c5c8a357cba207596b04d1afd1e4f130</td>\n",
       "      <td>2016-06-12 12:19:27</td>\n",
       "      <td></td>\n",
       "      <td>Columbus Avenue</td>\n",
       "      <td>[Doorman, Elevator, Fitness Center, Cats Allow...</td>\n",
       "      <td>low</td>\n",
       "      <td>40.7947</td>\n",
       "      <td>7150865</td>\n",
       "      <td>-73.9667</td>\n",
       "      <td>7533621a882f71e25173b27e3139d83d</td>\n",
       "      <td>[https://photos.renthop.com/2/7150865_be3306c5...</td>\n",
       "      <td>5465</td>\n",
       "      <td>808 Columbus Avenue</td>\n",
       "    </tr>\n",
       "    <tr>\n",
       "      <th>100004.0</th>\n",
       "      <td>1.0</td>\n",
       "      <td>1</td>\n",
       "      <td>c3ba40552e2120b0acfc3cb5730bb2aa</td>\n",
       "      <td>2016-04-17 03:26:41</td>\n",
       "      <td>Top Top West Village location, beautiful Pre-w...</td>\n",
       "      <td>W 13 Street</td>\n",
       "      <td>[Laundry In Building, Dishwasher, Hardwood Flo...</td>\n",
       "      <td>high</td>\n",
       "      <td>40.7388</td>\n",
       "      <td>6887163</td>\n",
       "      <td>-74.0018</td>\n",
       "      <td>d9039c43983f6e564b1482b273bd7b01</td>\n",
       "      <td>[https://photos.renthop.com/2/6887163_de85c427...</td>\n",
       "      <td>2850</td>\n",
       "      <td>241 W 13 Street</td>\n",
       "    </tr>\n",
       "    <tr>\n",
       "      <th>100007.0</th>\n",
       "      <td>1.0</td>\n",
       "      <td>1</td>\n",
       "      <td>28d9ad350afeaab8027513a3e52ac8d5</td>\n",
       "      <td>2016-04-18 02:22:02</td>\n",
       "      <td>Building Amenities - Garage - Garden - fitness...</td>\n",
       "      <td>East 49th Street</td>\n",
       "      <td>[Hardwood Floors, No Fee]</td>\n",
       "      <td>low</td>\n",
       "      <td>40.7539</td>\n",
       "      <td>6888711</td>\n",
       "      <td>-73.9677</td>\n",
       "      <td>1067e078446a7897d2da493d2f741316</td>\n",
       "      <td>[https://photos.renthop.com/2/6888711_6e660cee...</td>\n",
       "      <td>3275</td>\n",
       "      <td>333 East 49th Street</td>\n",
       "    </tr>\n",
       "    <tr>\n",
       "      <th>100013.0</th>\n",
       "      <td>1.0</td>\n",
       "      <td>4</td>\n",
       "      <td>0</td>\n",
       "      <td>2016-04-28 01:32:41</td>\n",
       "      <td>Beautifully renovated 3 bedroom flex 4 bedroom...</td>\n",
       "      <td>West 143rd Street</td>\n",
       "      <td>[Pre-War]</td>\n",
       "      <td>low</td>\n",
       "      <td>40.8241</td>\n",
       "      <td>6934781</td>\n",
       "      <td>-73.9493</td>\n",
       "      <td>98e13ad4b495b9613cef886d79a6291f</td>\n",
       "      <td>[https://photos.renthop.com/2/6934781_1fa4b41a...</td>\n",
       "      <td>3350</td>\n",
       "      <td>500 West 143rd Street</td>\n",
       "    </tr>\n",
       "  </tbody>\n",
       "</table>\n",
       "</div>"
      ],
      "text/plain": [
       "          bathrooms  bedrooms                       building_id  \\\n",
       "10.0            1.5         3  53a5b119ba8f7b61d4e010512e0dfc85   \n",
       "10000.0         1.0         2  c5c8a357cba207596b04d1afd1e4f130   \n",
       "100004.0        1.0         1  c3ba40552e2120b0acfc3cb5730bb2aa   \n",
       "100007.0        1.0         1  28d9ad350afeaab8027513a3e52ac8d5   \n",
       "100013.0        1.0         4                                 0   \n",
       "\n",
       "                      created  \\\n",
       "10.0      2016-06-24 07:54:24   \n",
       "10000.0   2016-06-12 12:19:27   \n",
       "100004.0  2016-04-17 03:26:41   \n",
       "100007.0  2016-04-18 02:22:02   \n",
       "100013.0  2016-04-28 01:32:41   \n",
       "\n",
       "                                                description  \\\n",
       "10.0      A Brand New 3 Bedroom 1.5 bath ApartmentEnjoy ...   \n",
       "10000.0                                                       \n",
       "100004.0  Top Top West Village location, beautiful Pre-w...   \n",
       "100007.0  Building Amenities - Garage - Garden - fitness...   \n",
       "100013.0  Beautifully renovated 3 bedroom flex 4 bedroom...   \n",
       "\n",
       "              display_address  \\\n",
       "10.0      Metropolitan Avenue   \n",
       "10000.0       Columbus Avenue   \n",
       "100004.0          W 13 Street   \n",
       "100007.0     East 49th Street   \n",
       "100013.0    West 143rd Street   \n",
       "\n",
       "                                                   features interest_level  \\\n",
       "10.0                                                     []         medium   \n",
       "10000.0   [Doorman, Elevator, Fitness Center, Cats Allow...            low   \n",
       "100004.0  [Laundry In Building, Dishwasher, Hardwood Flo...           high   \n",
       "100007.0                          [Hardwood Floors, No Fee]            low   \n",
       "100013.0                                          [Pre-War]            low   \n",
       "\n",
       "          latitude  listing_id  longitude                        manager_id  \\\n",
       "10.0       40.7145     7211212   -73.9425  5ba989232d0489da1b5f2c45f6688adc   \n",
       "10000.0    40.7947     7150865   -73.9667  7533621a882f71e25173b27e3139d83d   \n",
       "100004.0   40.7388     6887163   -74.0018  d9039c43983f6e564b1482b273bd7b01   \n",
       "100007.0   40.7539     6888711   -73.9677  1067e078446a7897d2da493d2f741316   \n",
       "100013.0   40.8241     6934781   -73.9493  98e13ad4b495b9613cef886d79a6291f   \n",
       "\n",
       "                                                     photos  price  \\\n",
       "10.0      [https://photos.renthop.com/2/7211212_1ed4542e...   3000   \n",
       "10000.0   [https://photos.renthop.com/2/7150865_be3306c5...   5465   \n",
       "100004.0  [https://photos.renthop.com/2/6887163_de85c427...   2850   \n",
       "100007.0  [https://photos.renthop.com/2/6888711_6e660cee...   3275   \n",
       "100013.0  [https://photos.renthop.com/2/6934781_1fa4b41a...   3350   \n",
       "\n",
       "                   street_address  \n",
       "10.0      792 Metropolitan Avenue  \n",
       "10000.0       808 Columbus Avenue  \n",
       "100004.0          241 W 13 Street  \n",
       "100007.0     333 East 49th Street  \n",
       "100013.0    500 West 143rd Street  "
      ]
     },
     "execution_count": 8,
     "metadata": {},
     "output_type": "execute_result"
    }
   ],
   "source": [
    "df.head()\n",
    "# created : 작성 날짜를 연 / 월 / 주말 /평일로 전처리 \n",
    "# description : 흠 요약을.. 어떻게 할 수 있을까 (부족한 데이터에 삽입?)\n",
    "# display address?\n",
    "# feature : 대소문자 구분, 전처리 후 feature를 늘려보자\n",
    "#  listing_id : key?\n",
    "# latitude, longtitude : 위도 경도..\n",
    "# manager_id : 어떻게 이용하지\n",
    "# photos : 흐음..?\n",
    "# price : 가격\n",
    "# street_address : 주소..음..! 미국에 한정.. 미국 주소에 대한 도메인 지식도 필요"
   ]
  },
  {
   "cell_type": "code",
   "execution_count": 9,
   "metadata": {
    "collapsed": false
   },
   "outputs": [],
   "source": [
    "check_list = [\"bathrooms\", \"bedrooms\", \"interest_level\"]"
   ]
  },
  {
   "cell_type": "code",
   "execution_count": 10,
   "metadata": {
    "collapsed": false
   },
   "outputs": [
    {
     "name": "stdout",
     "output_type": "stream",
     "text": [
      "==================================================\n",
      "col : bathrooms\n"
     ]
    },
    {
     "data": {
      "image/png": "[encoded data removed]",
      "text/plain": [
       "<matplotlib.figure.Figure at 0x2503f443518>"
      ]
     },
     "metadata": {},
     "output_type": "display_data"
    },
    {
     "name": "stdout",
     "output_type": "stream",
     "text": [
      "==================================================\n",
      "col : bedrooms\n"
     ]
    },
    {
     "data": {
      "image/png": "[encoded data removed]",
      "text/plain": [
       "<matplotlib.figure.Figure at 0x2503f4e4f60>"
      ]
     },
     "metadata": {},
     "output_type": "display_data"
    },
    {
     "name": "stdout",
     "output_type": "stream",
     "text": [
      "==================================================\n",
      "col : interest_level\n"
     ]
    },
    {
     "data": {
      "image/png": "[encoded data removed]",
      "text/plain": [
       "<matplotlib.figure.Figure at 0x2503f39bba8>"
      ]
     },
     "metadata": {},
     "output_type": "display_data"
    }
   ],
   "source": [
    "for i in check_list:\n",
    "    print(\"=\"*50)\n",
    "    print('col :', i)\n",
    "    f, ax = plt.subplots(figsize=(10, 7))\n",
    "    sns.countplot(x=i, data=df, alpha=0.5)\n",
    "    plt.show()"
   ]
  },
  {
   "cell_type": "code",
   "execution_count": 11,
   "metadata": {
    "collapsed": false
   },
   "outputs": [
    {
     "data": {
      "image/png": "[encoded data removed]",
      "text/plain": [
       "<matplotlib.figure.Figure at 0x25026841710>"
      ]
     },
     "metadata": {},
     "output_type": "display_data"
    }
   ],
   "source": [
    "df['price'] = df['price']/1000.\n",
    "g = sns.pairplot(df[['price','interest_level','bedrooms', 'bathrooms']], hue=\"interest_level\",size=3)"
   ]
  },
  {
   "cell_type": "code",
   "execution_count": 15,
   "metadata": {
    "collapsed": false
   },
   "outputs": [
    {
     "data": {
      "text/html": [
       "<div>\n",
       "<table border=\"1\" class=\"dataframe\">\n",
       "  <thead>\n",
       "    <tr style=\"text-align: right;\">\n",
       "      <th></th>\n",
       "      <th>bathrooms</th>\n",
       "      <th>bedrooms</th>\n",
       "      <th>building_id</th>\n",
       "      <th>created</th>\n",
       "      <th>description</th>\n",
       "      <th>display_address</th>\n",
       "      <th>features</th>\n",
       "      <th>interest_level</th>\n",
       "      <th>latitude</th>\n",
       "      <th>listing_id</th>\n",
       "      <th>longitude</th>\n",
       "      <th>manager_id</th>\n",
       "      <th>photos</th>\n",
       "      <th>price</th>\n",
       "      <th>street_address</th>\n",
       "    </tr>\n",
       "  </thead>\n",
       "  <tbody>\n",
       "    <tr>\n",
       "      <th>10.0</th>\n",
       "      <td>1.5</td>\n",
       "      <td>3</td>\n",
       "      <td>53a5b119ba8f7b61d4e010512e0dfc85</td>\n",
       "      <td>2016-06-24 07:54:24</td>\n",
       "      <td>A Brand New 3 Bedroom 1.5 bath ApartmentEnjoy ...</td>\n",
       "      <td>Metropolitan Avenue</td>\n",
       "      <td>[]</td>\n",
       "      <td>medium</td>\n",
       "      <td>40.7145</td>\n",
       "      <td>7211212</td>\n",
       "      <td>-73.9425</td>\n",
       "      <td>5ba989232d0489da1b5f2c45f6688adc</td>\n",
       "      <td>[https://photos.renthop.com/2/7211212_1ed4542e...</td>\n",
       "      <td>3.000000e-09</td>\n",
       "      <td>792 Metropolitan Avenue</td>\n",
       "    </tr>\n",
       "  </tbody>\n",
       "</table>\n",
       "</div>"
      ],
      "text/plain": [
       "      bathrooms  bedrooms                       building_id  \\\n",
       "10.0        1.5         3  53a5b119ba8f7b61d4e010512e0dfc85   \n",
       "\n",
       "                  created                                        description  \\\n",
       "10.0  2016-06-24 07:54:24  A Brand New 3 Bedroom 1.5 bath ApartmentEnjoy ...   \n",
       "\n",
       "          display_address features interest_level  latitude  listing_id  \\\n",
       "10.0  Metropolitan Avenue       []         medium   40.7145     7211212   \n",
       "\n",
       "      longitude                        manager_id  \\\n",
       "10.0   -73.9425  5ba989232d0489da1b5f2c45f6688adc   \n",
       "\n",
       "                                                 photos         price  \\\n",
       "10.0  [https://photos.renthop.com/2/7211212_1ed4542e...  3.000000e-09   \n",
       "\n",
       "               street_address  \n",
       "10.0  792 Metropolitan Avenue  "
      ]
     },
     "execution_count": 15,
     "metadata": {},
     "output_type": "execute_result"
    }
   ],
   "source": [
    "df.head(1)\n",
    "# created : 작성 날짜를 연 / 월 / 주말 /평일로 전처리 \n",
    "# description : 흠 요약을.. 어떻게 할 수 있을까 (부족한 데이터에 삽입?)\n",
    "# display address?\n",
    "# feature : 대소문자 구분, 전처리 후 feature를 늘려보자\n",
    "#  listing_id : key?\n",
    "# latitude, longtitude : 위도 경도..\n",
    "# manager_id : 어떻게 이용하지\n",
    "# photos : 흐음..?\n",
    "# price : 가격\n",
    "# street_address : 주소..음..! 미국에 한정.. 미국 주소에 대한 도메인 지식도 필요"
   ]
  },
  {
   "cell_type": "code",
   "execution_count": 12,
   "metadata": {
    "collapsed": false
   },
   "outputs": [],
   "source": [
    "df[\"created\"] = pd.to_datetime(df[\"created\"], errors=\"coerce\")\n",
    "df[\"year\"] = df[\"created\"].dt.year\n",
    "df[\"month\"] = df[\"created\"].dt.month\n",
    "df[\"day\"] = df[\"created\"].dt.day\n",
    "df[\"weekday\"] = df[\"created\"].dt.weekday\n",
    "# df1[\"price\"] = df1[\"price\"]*1000000000\n",
    "# df1[\"price\"] = df1[\"price\"].round()"
   ]
  },
  {
   "cell_type": "code",
   "execution_count": 13,
   "metadata": {
    "collapsed": true
   },
   "outputs": [],
   "source": [
    "eda_data = [\"building_id\", \"manager_id\",\"listing_id\", \"bathrooms\",\"bedrooms\",\\\n",
    "            \"display_address\",\"interest_level\",\"latitude\", \"longitude\",\"price\",\"year\",\"month\",\"day\",\"weekday\"]"
   ]
  },
  {
   "cell_type": "code",
   "execution_count": 16,
   "metadata": {
    "collapsed": true
   },
   "outputs": [],
   "source": [
    "df1 = df[eda_data]"
   ]
  },
  {
   "cell_type": "code",
   "execution_count": 17,
   "metadata": {
    "collapsed": false,
    "scrolled": true
   },
   "outputs": [
    {
     "data": {
      "text/plain": [
       "6    17144\n",
       "4    16411\n",
       "5    15797\n",
       "Name: month, dtype: int64"
      ]
     },
     "execution_count": 17,
     "metadata": {},
     "output_type": "execute_result"
    }
   ],
   "source": [
    "df1.month.value_counts()"
   ]
  },
  {
   "cell_type": "code",
   "execution_count": 22,
   "metadata": {
    "collapsed": false
   },
   "outputs": [
    {
     "data": {
      "text/plain": [
       "Broadway                                                                                       438\n",
       "East 34th Street                                                                               355\n",
       "Second Avenue                                                                                  349\n",
       "Wall Street                                                                                    332\n",
       "West 37th Street                                                                               287\n",
       "West Street                                                                                    258\n",
       "First Avenue                                                                                   244\n",
       "Gold Street                                                                                    241\n",
       "Washington Street                                                                              237\n",
       "York Avenue                                                                                    228\n",
       "John Street                                                                                    214\n",
       "Water Street                                                                                   214\n",
       "East 39th Street                                                                               200\n",
       "East 89th Street                                                                               195\n",
       "West 54th Street                                                                               193\n",
       "Lexington Avenue                                                                               189\n",
       "Fifth Avenue                                                                                   189\n",
       "West 42nd Street                                                                               184\n",
       "Christopher Street                                                                             180\n",
       "Third Avenue                                                                                   178\n",
       "Columbus Avenue                                                                                177\n",
       "W 37 St.                                                                                       176\n",
       "East 35th Street                                                                               174\n",
       "West 34th Street                                                                               169\n",
       "East 46th Street                                                                               167\n",
       "West End Avenue                                                                                167\n",
       "East 82nd Street                                                                               166\n",
       "East 29th Street                                                                               165\n",
       "Thompson Street                                                                                156\n",
       "East 88th Street                                                                               151\n",
       "                                                                                              ... \n",
       "210 East 15th Street                                                                             1\n",
       "115 West 23rd Street                                                                             1\n",
       "Broad Street\\r                                                                                   1\n",
       "E 116th St                                                                                       1\n",
       "51st Ave                                                                                         1\n",
       "South  4th Street                                                                                1\n",
       "St Pauls Pl                                                                                      1\n",
       " 9th Street                                                                                      1\n",
       "207 East 57th Street                                                                             1\n",
       "E 112 Street                                                                                     1\n",
       "West 22nd St                                                                                     1\n",
       "E85 TEMPTING SPACIOUS ST W/SEPARATE KTN                                                          1\n",
       " St Paul's Court/ Prospect Parc South                                                            1\n",
       "78 Bank Street                                                                                   1\n",
       "66 Jane Street                                                                                   1\n",
       "Chaunecy                                                                                         1\n",
       "4332 47th Street                                                                                 1\n",
       "237 East 10th Street                                                                             1\n",
       "123 Bank Street                                                                                  1\n",
       "W. 109th St. and Columbus                                                                        1\n",
       "118 W 73rd St. (btw. Amsterdam-Columbus Aves.)                                                   1\n",
       "1760 1st Avenue                                                                                  1\n",
       "E 32nd                                                                                           1\n",
       "115 East 9th Street                                                                              1\n",
       "W 173 St.  Beautiful Spacious Renovated Secure Laundry Elevator Subway                           1\n",
       "Sullivan st                                                                                      1\n",
       "555 West 59th Street                                                                             1\n",
       "East 61 Street                                                                                   1\n",
       "200 East 15th Street                                                                             1\n",
       "K.R. - Newly Renovated STUDIO for Amazing Price in the Lower East Side! Call Now to View!!!      1\n",
       "Name: display_address, dtype: int64"
      ]
     },
     "execution_count": 22,
     "metadata": {},
     "output_type": "execute_result"
    }
   ],
   "source": [
    "df1[\"display_address\"].value_counts()"
   ]
  },
  {
   "cell_type": "code",
   "execution_count": null,
   "metadata": {
    "collapsed": true
   },
   "outputs": [],
   "source": []
  }
 ],
 "metadata": {
  "kernelspec": {
   "display_name": "Python 3",
   "language": "python",
   "name": "python3"
  },
  "language_info": {
   "codemirror_mode": {
    "name": "ipython",
    "version": 3
   },
   "file_extension": ".py",
   "mimetype": "text/x-python",
   "name": "python",
   "nbconvert_exporter": "python",
   "pygments_lexer": "ipython3",
   "version": "3.5.2"
  }
 },
 "nbformat": 4,
 "nbformat_minor": 0
}
